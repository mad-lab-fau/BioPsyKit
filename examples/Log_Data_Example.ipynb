{
 "cells": [
  {
   "cell_type": "markdown",
   "metadata": {},
   "source": [
    "# Log Data Example"
   ]
  },
  {
   "cell_type": "markdown",
   "metadata": {},
   "source": [
    "<div class=\"alert alert-block alert-info\">\n",
    "    \n",
    "This example demonstrates how to import and process data from the [*CARWatch App*](https://play.google.com/store/apps/details?id=de.fau.cs.mad.carwatch) used to record logs during cortisol awakening response (CAR) assessment studies at home.\n",
    "  \n",
    "</div>"
   ]
  },
  {
   "cell_type": "markdown",
   "metadata": {},
   "source": [
    "## Imports and Helper Functions"
   ]
  },
  {
   "cell_type": "code",
   "execution_count": null,
   "metadata": {},
   "outputs": [],
   "source": [
    "from pathlib import Path\n",
    "\n",
    "import pandas as pd\n",
    "import numpy as np\n",
    "\n",
    "import biopsykit as bp\n",
    "from biopsykit.carwatch_logs import LogData\n",
    "\n",
    "import matplotlib.pyplot as plt\n",
    "import seaborn as sns\n",
    "\n",
    "import ipywidgets as widgets\n",
    "\n",
    "%matplotlib widget\n",
    "%load_ext autoreload\n",
    "%autoreload 2"
   ]
  },
  {
   "cell_type": "code",
   "execution_count": null,
   "metadata": {},
   "outputs": [],
   "source": [
    "palette = bp.colors.fau_palette\n",
    "sns.set_theme(\n",
    "    context=\"notebook\", \n",
    "    style=\"ticks\", \n",
    "    font=\"sans-serif\",\n",
    "    palette=palette\n",
    ")\n",
    "\n",
    "plt.rcParams['figure.figsize'] = (8, 4)\n",
    "plt.rcParams['pdf.fonttype'] = 42\n",
    "plt.rcParams['mathtext.default'] = \"regular\"\n",
    "\n",
    "palette"
   ]
  },
  {
   "cell_type": "code",
   "execution_count": null,
   "metadata": {},
   "outputs": [],
   "source": [
    "log_path = bp.example_data.get_car_watch_log_path_example()\n",
    "# Alternatively: Use your own data\n",
    "# log_path = Path(\"<path-to-log-files-folder>\")"
   ]
  },
  {
   "cell_type": "markdown",
   "metadata": {},
   "source": [
    "## Loading/Saving"
   ]
  },
  {
   "cell_type": "markdown",
   "metadata": {},
   "source": [
    "Log files can either be imported by (1) loading the `.zip` files obtained by the *CARWatch App* or (2) by loading a subject folder with `.csv` files.\n",
    "\n",
    "For (1), the file structure is assumed to look like:\n",
    "```\n",
    ". (base folder)\n",
    "├── logs_ABC12.zip\n",
    "├── logs_DEF34.zip\n",
    "├── logs_GHI56.zip\n",
    "├── logs_JKL78.zip\n",
    "...\n",
    "```\n",
    "\n",
    "For (2), the file structure is assumed to look like:\n",
    "```\n",
    ". (base folder)\n",
    "├── ABC12/\n",
    "│   ├── carwatch_abc12_20200101.csv\n",
    "│   ├── carwatch_abc12_20200102.csv\n",
    "│   └── carwatch_abc12_20200103.csv\n",
    "├── DEF34/\n",
    "│   ├── carwatch_def34_20200201.csv\n",
    "│   ├── carwatch_def34_20200202.csv\n",
    "│   └── carwatch_def34_20200203.csv\n",
    "...\n",
    "```"
   ]
  },
  {
   "cell_type": "markdown",
   "metadata": {},
   "source": [
    "### Load Single Subject"
   ]
  },
  {
   "cell_type": "markdown",
   "metadata": {},
   "source": [
    "Example Log Data:"
   ]
  },
  {
   "cell_type": "code",
   "execution_count": null,
   "metadata": {},
   "outputs": [],
   "source": [
    "# Load log data from folder:\n",
    "folder_path = bp.example_data.get_car_watch_log_path_example()\n",
    "# Alternatively: Use your own data\n",
    "# folder_path = Path(\"<path-to-log-file-folder>\")\n",
    "logs = bp.io.carwatch_logs.load_log_one_subject(folder_path)\n",
    "\n",
    "# Load log data from zip file:\n",
    "zip_path = bp.example_data.get_car_watch_log_data_zip_path_example()\n",
    "# Alternatively: Use your own data\n",
    "# zip_path = Path(\"<path-to-log-zip-file>\")\n",
    "logs = bp.io.carwatch_logs.load_log_one_subject(zip_path)\n",
    "\n",
    "logs"
   ]
  },
  {
   "cell_type": "markdown",
   "metadata": {},
   "source": [
    "### Save Log Data as csv"
   ]
  },
  {
   "cell_type": "code",
   "execution_count": null,
   "metadata": {},
   "outputs": [],
   "source": [
    "# uncomment to save data\n",
    "# bp.io.carwatch_logs.save_log_data(logs, log_path)"
   ]
  },
  {
   "cell_type": "markdown",
   "metadata": {},
   "source": [
    "### Load All Subjects"
   ]
  },
  {
   "cell_type": "markdown",
   "metadata": {},
   "source": [
    "Load Log files stored in subfolders and concatenate them into one large dataframe:"
   ]
  },
  {
   "cell_type": "code",
   "execution_count": null,
   "metadata": {},
   "outputs": [],
   "source": [
    "log_path = bp.example_data.get_car_watch_log_path_all_subjects_example()\n",
    "# Alternatively: Use your own data\n",
    "# log_path = Path(\"folder-path-to-log-data\")"
   ]
  },
  {
   "cell_type": "code",
   "execution_count": null,
   "metadata": {},
   "outputs": [],
   "source": [
    "df_logfiles = bp.io.carwatch_logs.load_logs_all_subjects(log_path, has_subject_folders=True)\n",
    "# Alternatively: If Log files are provided as zip files (or were already exported as combined csv files) instead of being stored in subfolders, you can load them like this:\n",
    "# df_logfiles = bp.log_data.io.load_logs_all_subjects(log_path, has_subfolder=False)\n",
    "\n",
    "df_logfiles"
   ]
  },
  {
   "cell_type": "markdown",
   "metadata": {},
   "source": [
    "### Save All Subjects"
   ]
  },
  {
   "cell_type": "code",
   "execution_count": null,
   "metadata": {},
   "outputs": [],
   "source": [
    "# Uncomment to save log data\n",
    "# bp.io.carwatch_logs.save_log_data(df_logfiles, log_path.joinpath(\"export_logs.csv\"))"
   ]
  },
  {
   "cell_type": "markdown",
   "metadata": {},
   "source": [
    "### Create `LogData` object"
   ]
  },
  {
   "cell_type": "markdown",
   "metadata": {},
   "source": [
    "The `LogData` object can help to better handle log data"
   ]
  },
  {
   "cell_type": "code",
   "execution_count": null,
   "metadata": {},
   "outputs": [],
   "source": [
    "# select one subject using dataframe cross-select\n",
    "df = df_logfiles.xs(\"DE34F\")\n",
    "\n",
    "logdata = LogData(df)"
   ]
  },
  {
   "cell_type": "code",
   "execution_count": null,
   "metadata": {},
   "outputs": [],
   "source": [
    "logdata"
   ]
  },
  {
   "cell_type": "markdown",
   "metadata": {},
   "source": [
    "## Filtering/Selecting"
   ]
  },
  {
   "cell_type": "markdown",
   "metadata": {},
   "source": [
    "### Filter by Action"
   ]
  },
  {
   "cell_type": "code",
   "execution_count": null,
   "metadata": {},
   "outputs": [],
   "source": [
    "bp.carwatch_logs.log_data.get_logs_for_action(logdata, \"barcode_scanned\")"
   ]
  },
  {
   "cell_type": "markdown",
   "metadata": {},
   "source": [
    "### Extract Extras from Log Actions"
   ]
  },
  {
   "cell_type": "code",
   "execution_count": null,
   "metadata": {},
   "outputs": [],
   "source": [
    "# returns extras for the first log entry with specific action\n",
    "bp.carwatch_logs.log_data.get_logs_for_action(logdata, \"barcode_scanned\")"
   ]
  },
  {
   "cell_type": "markdown",
   "metadata": {},
   "source": [
    "### Filter by Date"
   ]
  },
  {
   "cell_type": "code",
   "execution_count": null,
   "metadata": {},
   "outputs": [],
   "source": [
    "bp.carwatch_logs.log_data.get_logs_for_date(logdata, \"2019-12-06\")"
   ]
  },
  {
   "cell_type": "markdown",
   "metadata": {},
   "source": [
    "### Split Log Data into different Nights"
   ]
  },
  {
   "cell_type": "code",
   "execution_count": null,
   "metadata": {},
   "outputs": [],
   "source": [
    "list_nights = bp.carwatch_logs.log_data.split_nights(logdata)"
   ]
  },
  {
   "cell_type": "code",
   "execution_count": null,
   "metadata": {},
   "outputs": [],
   "source": [
    "list_nights[1]"
   ]
  },
  {
   "cell_type": "markdown",
   "metadata": {},
   "source": [
    "## Log Statistics"
   ]
  },
  {
   "cell_type": "code",
   "execution_count": null,
   "metadata": {},
   "outputs": [],
   "source": [
    "log_stats = bp.carwatch_logs.log_statistics.LogStatistics(log_path)"
   ]
  },
  {
   "cell_type": "markdown",
   "metadata": {},
   "source": [
    "### Android Versions"
   ]
  },
  {
   "cell_type": "code",
   "execution_count": null,
   "metadata": {},
   "outputs": [],
   "source": [
    "log_stats.android_versions()"
   ]
  },
  {
   "cell_type": "code",
   "execution_count": null,
   "metadata": {},
   "outputs": [],
   "source": [
    "fig, ax = plt.subplots()\n",
    "log_stats.get_plot('android_version', ax=ax)"
   ]
  },
  {
   "cell_type": "markdown",
   "metadata": {},
   "source": [
    "### Smartphone Manufacturer"
   ]
  },
  {
   "cell_type": "code",
   "execution_count": null,
   "metadata": {},
   "outputs": [],
   "source": [
    "log_stats.manufacturer()"
   ]
  },
  {
   "cell_type": "code",
   "execution_count": null,
   "metadata": {},
   "outputs": [],
   "source": [
    "fig, ax = plt.subplots()\n",
    "log_stats.get_plot('manufacturers', ax=ax)"
   ]
  },
  {
   "cell_type": "markdown",
   "metadata": {},
   "source": [
    "### Recording Days"
   ]
  },
  {
   "cell_type": "code",
   "execution_count": null,
   "metadata": {},
   "outputs": [],
   "source": [
    "log_stats.days()"
   ]
  },
  {
   "cell_type": "code",
   "execution_count": null,
   "metadata": {},
   "outputs": [],
   "source": [
    "fig, ax = plt.subplots()\n",
    "log_stats.get_plot('days', ax=ax)"
   ]
  },
  {
   "cell_type": "markdown",
   "metadata": {},
   "source": [
    "## Widgets"
   ]
  },
  {
   "cell_type": "code",
   "execution_count": null,
   "metadata": {},
   "outputs": [],
   "source": [
    "out_logfile = widgets.Output()\n",
    "\n",
    "@out_logfile.capture(clear_output=True)\n",
    "def callback_log_file_subject(change):\n",
    "    subject_id = change['new']\n",
    "    display(df_logfiles.xs(subject_id))"
   ]
  },
  {
   "cell_type": "code",
   "execution_count": null,
   "metadata": {},
   "outputs": [],
   "source": [
    "from biopsykit.carwatch_logs.widgets import log_file_subject_dropdown\n",
    "log_file_subject_dropdown(log_path, input_type='folder', value_type=\"subject_id\", callback=callback_log_file_subject)"
   ]
  },
  {
   "cell_type": "code",
   "execution_count": null,
   "metadata": {},
   "outputs": [],
   "source": [
    "out_logfile"
   ]
  },
  {
   "cell_type": "code",
   "execution_count": null,
   "metadata": {},
   "outputs": [],
   "source": [
    "out_action = widgets.Output()\n",
    "\n",
    "@out_action.capture(clear_output=True)\n",
    "def callback_log_action(change):\n",
    "    action = change['new']\n",
    "    display(df_logfiles[df_logfiles[\"action\"] == action])"
   ]
  },
  {
   "cell_type": "code",
   "execution_count": null,
   "metadata": {},
   "outputs": [],
   "source": [
    "from biopsykit.carwatch_logs.widgets import action_dropdown_widget\n",
    "action_dropdown_widget(df_logfiles.xs('DE34F'), callback=callback_log_action)"
   ]
  },
  {
   "cell_type": "code",
   "execution_count": null,
   "metadata": {},
   "outputs": [],
   "source": [
    "out_action"
   ]
  },
  {
   "cell_type": "code",
   "execution_count": null,
   "metadata": {},
   "outputs": [],
   "source": [
    "df_logfiles.loc[pd.IndexSlice[:, df_logfiles.index.get_level_values(\"time\") == \"2019-12-07\"], :]"
   ]
  },
  {
   "cell_type": "code",
   "execution_count": null,
   "metadata": {},
   "outputs": [],
   "source": [
    "out_day = widgets.Output()\n",
    "\n",
    "@out_day.capture(clear_output=True)\n",
    "def callback_log_day(change):\n",
    "    day = change['new']\n",
    "    print(day)"
   ]
  },
  {
   "cell_type": "code",
   "execution_count": null,
   "metadata": {},
   "outputs": [],
   "source": [
    "from biopsykit.carwatch_logs.widgets import day_dropdown_widget\n",
    "day_dropdown_widget(df_logfiles.xs('DE34F'), callback=callback_log_day)"
   ]
  },
  {
   "cell_type": "code",
   "execution_count": null,
   "metadata": {},
   "outputs": [],
   "source": [
    "out_day"
   ]
  }
 ],
 "metadata": {
  "kernelspec": {
   "display_name": "biopsykit",
   "language": "python",
   "name": "biopsykit"
  },
  "language_info": {
   "codemirror_mode": {
    "name": "ipython",
    "version": 3
   },
   "file_extension": ".py",
   "mimetype": "text/x-python",
   "name": "python",
   "nbconvert_exporter": "python",
   "pygments_lexer": "ipython3",
   "version": "3.8.3"
  }
 },
 "nbformat": 4,
 "nbformat_minor": 4
}
