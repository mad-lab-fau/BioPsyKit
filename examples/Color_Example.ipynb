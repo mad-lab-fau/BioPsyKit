{
 "cells": [
  {
   "cell_type": "markdown",
   "metadata": {},
   "source": [
    "# Color Example"
   ]
  },
  {
   "cell_type": "markdown",
   "metadata": {},
   "source": [
    "<div class=\"alert alert-block alert-info\">\n",
    "    This example demonstrates the functionalities of the <code>biopsykit.colors</code> module and how the different color palettes look like for different plot types (ensemble plot, line plot, box plot).\n",
    "</div>"
   ]
  },
  {
   "cell_type": "markdown",
   "metadata": {},
   "source": [
    "## Setup and Helper Functions"
   ]
  },
  {
   "cell_type": "code",
   "execution_count": null,
   "metadata": {},
   "outputs": [],
   "source": [
    "import re\n",
    "from pathlib import Path\n",
    "\n",
    "import pandas as pd\n",
    "import numpy as np\n",
    "import pingouin as pg\n",
    "\n",
    "import matplotlib.pyplot as plt\n",
    "from matplotlib.colors import LinearSegmentedColormap\n",
    "import seaborn as sns\n",
    "\n",
    "import biopsykit as bp\n",
    "\n",
    "%load_ext autoreload\n",
    "%autoreload 2\n",
    "%matplotlib widget"
   ]
  },
  {
   "cell_type": "code",
   "execution_count": null,
   "metadata": {},
   "outputs": [],
   "source": [
    "plt.close(\"all\")\n",
    "\n",
    "sns.set_theme(\n",
    "    context=\"notebook\", \n",
    "    style=\"ticks\", \n",
    "    font=\"sans-serif\"\n",
    ")\n",
    "\n",
    "plt.rcParams['figure.figsize'] = (8,4)\n",
    "plt.rcParams['pdf.fonttype'] = 42\n",
    "plt.rcParams['mathtext.default'] = \"regular\""
   ]
  },
  {
   "cell_type": "markdown",
   "metadata": {},
   "source": [
    "## Color Palettes"
   ]
  },
  {
   "cell_type": "markdown",
   "metadata": {},
   "source": [
    "The \"base palette\" of `BioPsyKit` is this:"
   ]
  },
  {
   "cell_type": "code",
   "execution_count": null,
   "metadata": {},
   "outputs": [],
   "source": [
    "print(\"Color Names:\\n{}\".format(list(bp.colors.fau_color_dict.keys())))\n",
    "bp.colors.fau_palette"
   ]
  },
  {
   "cell_type": "markdown",
   "metadata": {},
   "source": [
    "For each of these six colors, an own color palette with different color nuances exist. They can be accessed by the functions that follow the naming convention `biopsykit.colors.fau_palette_<name>()` (exceprt the color \"fau\", for which the function `biopsykit.colors.fau_palette_blue` exists). The number of colors in the color palette can be specified by the `n_colors` argument (default and maximum number of colors: 8)"
   ]
  },
  {
   "cell_type": "markdown",
   "metadata": {},
   "source": [
    "### ``fau``"
   ]
  },
  {
   "cell_type": "code",
   "execution_count": null,
   "metadata": {},
   "outputs": [],
   "source": [
    "sns.color_palette(bp.colors.fau_palette_blue())"
   ]
  },
  {
   "cell_type": "code",
   "execution_count": null,
   "metadata": {},
   "outputs": [],
   "source": [
    "sns.color_palette(bp.colors.fau_palette_blue(n_colors=3))"
   ]
  },
  {
   "cell_type": "markdown",
   "metadata": {},
   "source": [
    "### ``tech``"
   ]
  },
  {
   "cell_type": "code",
   "execution_count": null,
   "metadata": {},
   "outputs": [],
   "source": [
    "sns.color_palette(bp.colors.fau_palette_tech())"
   ]
  },
  {
   "cell_type": "code",
   "execution_count": null,
   "metadata": {},
   "outputs": [],
   "source": [
    "sns.color_palette(bp.colors.fau_palette_tech(n_colors=3))"
   ]
  },
  {
   "cell_type": "markdown",
   "metadata": {},
   "source": [
    "### ``phil``"
   ]
  },
  {
   "cell_type": "code",
   "execution_count": null,
   "metadata": {},
   "outputs": [],
   "source": [
    "sns.color_palette(bp.colors.fau_palette_phil())"
   ]
  },
  {
   "cell_type": "code",
   "execution_count": null,
   "metadata": {},
   "outputs": [],
   "source": [
    "sns.color_palette(bp.colors.fau_palette_phil(n_colors=3))"
   ]
  },
  {
   "cell_type": "markdown",
   "metadata": {},
   "source": [
    "### ``med``"
   ]
  },
  {
   "cell_type": "code",
   "execution_count": null,
   "metadata": {},
   "outputs": [],
   "source": [
    "sns.color_palette(bp.colors.fau_palette_med())"
   ]
  },
  {
   "cell_type": "code",
   "execution_count": null,
   "metadata": {},
   "outputs": [],
   "source": [
    "sns.color_palette(bp.colors.fau_palette_med(n_colors=3))"
   ]
  },
  {
   "cell_type": "markdown",
   "metadata": {},
   "source": [
    "### ``nat``"
   ]
  },
  {
   "cell_type": "code",
   "execution_count": null,
   "metadata": {},
   "outputs": [],
   "source": [
    "sns.color_palette(bp.colors.fau_palette_nat())"
   ]
  },
  {
   "cell_type": "code",
   "execution_count": null,
   "metadata": {},
   "outputs": [],
   "source": [
    "sns.color_palette(bp.colors.fau_palette_nat(n_colors=3))"
   ]
  },
  {
   "cell_type": "markdown",
   "metadata": {},
   "source": [
    "### ``wiso``"
   ]
  },
  {
   "cell_type": "code",
   "execution_count": null,
   "metadata": {},
   "outputs": [],
   "source": [
    "sns.color_palette(bp.colors.fau_palette_wiso())"
   ]
  },
  {
   "cell_type": "code",
   "execution_count": null,
   "metadata": {},
   "outputs": [],
   "source": [
    "sns.color_palette(bp.colors.fau_palette_wiso(n_colors=3))"
   ]
  },
  {
   "cell_type": "markdown",
   "metadata": {},
   "source": [
    "All Color Palettes Together (for Thumbnail Image)"
   ]
  },
  {
   "cell_type": "code",
   "execution_count": null,
   "metadata": {
    "tags": [
     "nbsphinx-thumbnail"
    ]
   },
   "outputs": [],
   "source": [
    "fig, axs = plt.subplots(nrows=6, figsize=(3,3))\n",
    "a = np.outer(np.ones(3), np.arange(0,3))\n",
    "colors = [\n",
    "    bp.colors.fau_palette_blue(n_colors=3),\n",
    "    bp.colors.fau_palette_tech(n_colors=3),\n",
    "    bp.colors.fau_palette_phil(n_colors=3),\n",
    "    bp.colors.fau_palette_med(n_colors=3),\n",
    "    bp.colors.fau_palette_nat(n_colors=3),\n",
    "    bp.colors.fau_palette_wiso(n_colors=3)\n",
    "]\n",
    "for clist, ax in zip(colors, axs):\n",
    "    ax.imshow(a, aspect=\"auto\", cmap=LinearSegmentedColormap.from_list(\"fau\", sns.color_palette(clist, as_cmap=True), 3))\n",
    "    ax.axis(\"off\")\n",
    "\n",
    "fig.tight_layout(pad=0)"
   ]
  },
  {
   "cell_type": "markdown",
   "metadata": {},
   "source": [
    "## Color Example"
   ]
  },
  {
   "cell_type": "markdown",
   "metadata": {},
   "source": [
    "This example shows how the different color palettes look like for the different plotting types (ensemble plot, line plot and box plot).\n",
    "\n",
    "**Note**:\n",
    "Most functions of `BioPsyKit` support passing the name of the color as `palette` argument to the function. The appropriate number of colors is then determined by the function. For that reason, each function will be supplied the value of the `palette_name` variable as `palette` argument. By default (`palette_name` is `None`), the function will use the default color map (\"fau\").\n",
    "\n",
    "**Further Note**:\n",
    "Of course, you can also use the plotting functions of `BioPsyKit` with your own color palettes. Simply pass the name of a seaborn or matplotlib palette, a seaborn or matplotlib palette/colormap object or a list with colors as `palette` argument to the respective function.\n",
    "\n",
    "\n",
    "Try it out for yourself by using different values for `palette_name`!"
   ]
  },
  {
   "cell_type": "code",
   "execution_count": null,
   "metadata": {},
   "outputs": [],
   "source": [
    "palette_name = \"nat\""
   ]
  },
  {
   "cell_type": "markdown",
   "metadata": {},
   "source": [
    "<div class=\"alert alert-block alert-info\">\n",
    "    <b>Note</b>: For some reason, you might have to run the Jupyter Notebook cells which call the plotting function twice for the color change to take effect. \n",
    "</div>"
   ]
  },
  {
   "cell_type": "markdown",
   "metadata": {},
   "source": [
    "### Setup Protocol Object"
   ]
  },
  {
   "cell_type": "markdown",
   "metadata": {},
   "source": [
    "Create a `Prococol` object (for more information about the `Protocol` API see the `Protocol_Example.ipynb` example notebook)."
   ]
  },
  {
   "cell_type": "code",
   "execution_count": null,
   "metadata": {},
   "outputs": [],
   "source": [
    "subphases = {\n",
    "    \"Start\": 60,\n",
    "    \"Middle\": 240,\n",
    "    \"End\": 0,\n",
    "}\n",
    "\n",
    "structure = {\n",
    "    \"Phase1\": subphases,\n",
    "    \"Phase2\": subphases,\n",
    "    \"Phase3\": subphases,\n",
    "}\n",
    "\n",
    "protocol = bp.protocols.BaseProtocol(name=\"Test\", structure=structure)"
   ]
  },
  {
   "cell_type": "markdown",
   "metadata": {},
   "source": [
    "Load existing Aggregated Heart Rate Data"
   ]
  },
  {
   "cell_type": "code",
   "execution_count": null,
   "metadata": {},
   "outputs": [],
   "source": [
    "hr_result = bp.example_data.get_hr_result_sample()\n",
    "protocol.add_hr_results(\"hr_mean\", hr_result)"
   ]
  },
  {
   "cell_type": "markdown",
   "metadata": {},
   "source": [
    "Load existing Ensemble Heart Rate Data"
   ]
  },
  {
   "cell_type": "code",
   "execution_count": null,
   "metadata": {},
   "outputs": [],
   "source": [
    "dict_merged_norm = bp.example_data.get_hr_ensemble_sample()\n",
    "protocol.add_hr_ensemble(\"hr_ensemble\", dict_merged_norm)"
   ]
  },
  {
   "cell_type": "markdown",
   "metadata": {},
   "source": [
    "### Create Plots"
   ]
  },
  {
   "cell_type": "code",
   "execution_count": null,
   "metadata": {},
   "outputs": [],
   "source": [
    "fig, ax = plt.subplots()\n",
    "protocol.hr_mean_plot(\n",
    "    \"hr_mean\", \n",
    "    palette=palette_name, \n",
    "    ax=ax\n",
    ");"
   ]
  },
  {
   "cell_type": "code",
   "execution_count": null,
   "metadata": {},
   "outputs": [],
   "source": [
    "fig, ax = plt.subplots()\n",
    "protocol.hr_ensemble_plot(\n",
    "    \"hr_ensemble\",\n",
    "    subphases={\"Phase1\": subphases, \"Phase2\": subphases, \"Phase3\": subphases}, \n",
    "    palette=palette_name,\n",
    "    ax=ax);"
   ]
  },
  {
   "cell_type": "markdown",
   "metadata": {},
   "source": [
    "**Note**: For seaborn functions (not the `BioPsyKit` wrappers), you need to create your color palette manually:"
   ]
  },
  {
   "cell_type": "code",
   "execution_count": null,
   "metadata": {},
   "outputs": [],
   "source": [
    "fig, ax = plt.subplots()\n",
    "\n",
    "data = protocol.get_hr_results(\"hr_mean\")\n",
    "\n",
    "num_colors = len(data.index.get_level_values(\"subphase\").unique())\n",
    "\n",
    "sns.boxplot(\n",
    "    data=data.reset_index(), \n",
    "    x=\"subphase\", \n",
    "    y=\"HR\", \n",
    "    hue=\"condition\", \n",
    "    palette=bp.colors.fau_palette_by_name(palette_name)(num_colors),\n",
    "    ax=ax\n",
    ")\n",
    "fig.tight_layout()"
   ]
  },
  {
   "cell_type": "code",
   "execution_count": null,
   "metadata": {},
   "outputs": [],
   "source": [
    "fig, ax = plt.subplots()\n",
    "\n",
    "data = protocol.get_hr_results(\"hr_mean\")\n",
    "\n",
    "num_colors = len(data.index.get_level_values(\"subphase\").unique())\n",
    "\n",
    "sns.boxplot(\n",
    "    data=data.reset_index(), \n",
    "    x=\"subphase\", \n",
    "    y=\"HR\", \n",
    "    palette=bp.colors.fau_palette_by_name(palette_name)(num_colors),\n",
    "    ax=ax\n",
    ")\n",
    "fig.tight_layout()"
   ]
  }
 ],
 "metadata": {
  "kernelspec": {
   "display_name": "biopsykit",
   "language": "python",
   "name": "biopsykit"
  },
  "language_info": {
   "codemirror_mode": {
    "name": "ipython",
    "version": 3
   },
   "file_extension": ".py",
   "mimetype": "text/x-python",
   "name": "python",
   "nbconvert_exporter": "python",
   "pygments_lexer": "ipython3",
   "version": "3.8.3"
  }
 },
 "nbformat": 4,
 "nbformat_minor": 4
}
